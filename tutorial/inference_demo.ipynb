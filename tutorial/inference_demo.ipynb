{
 "cells": [
  {
   "cell_type": "markdown",
   "id": "9d7a3e86",
   "metadata": {},
   "source": [
    "# Inference demo\n",
    "\n",
    "This notebook walks you through the main steps of running inference on a single PROTECT model"
   ]
  },
  {
   "cell_type": "code",
   "execution_count": 1,
   "id": "315fca1c",
   "metadata": {},
   "outputs": [],
   "source": [
    "import arviz as az, numpy as np, numpyro\n",
    "numpyro.set_host_device_count(8)\n",
    "import pandas as pd\n",
    "from jax import numpy as jnp, random;\n",
    "rng_key = random.PRNGKey(0)\n",
    "from causalprotect.models import PROTECTModel\n",
    "from causalprotect.inference import PROTECTInference\n",
    "from causalprotect.utils import load_yaml\n",
    "from causalprotect.utils import summary_likelihoods_to_df, model_check_evaluation_to_df, summarize_data"
   ]
  },
  {
   "cell_type": "code",
   "execution_count": 2,
   "id": "027b0e15",
   "metadata": {},
   "outputs": [
    {
     "data": {
      "text/html": [
       "<div>\n",
       "<style scoped>\n",
       "    .dataframe tbody tr th:only-of-type {\n",
       "        vertical-align: middle;\n",
       "    }\n",
       "\n",
       "    .dataframe tbody tr th {\n",
       "        vertical-align: top;\n",
       "    }\n",
       "\n",
       "    .dataframe thead th {\n",
       "        text-align: right;\n",
       "    }\n",
       "</style>\n",
       "<table border=\"1\" class=\"dataframe\">\n",
       "  <thead>\n",
       "    <tr style=\"text-align: right;\">\n",
       "      <th></th>\n",
       "      <th>shapes</th>\n",
       "      <th>dims</th>\n",
       "      <th>means</th>\n",
       "      <th>stds</th>\n",
       "      <th>nas</th>\n",
       "      <th>dtypes</th>\n",
       "    </tr>\n",
       "  </thead>\n",
       "  <tbody>\n",
       "    <tr>\n",
       "      <th>age</th>\n",
       "      <td>(1000,)</td>\n",
       "      <td>1</td>\n",
       "      <td>-0.028320</td>\n",
       "      <td>1.002480</td>\n",
       "      <td>0</td>\n",
       "      <td>float64</td>\n",
       "    </tr>\n",
       "    <tr>\n",
       "      <th>proxy1</th>\n",
       "      <td>(1000,)</td>\n",
       "      <td>1</td>\n",
       "      <td>0.156000</td>\n",
       "      <td>0.362855</td>\n",
       "      <td>0</td>\n",
       "      <td>int64</td>\n",
       "    </tr>\n",
       "    <tr>\n",
       "      <th>proxy2</th>\n",
       "      <td>(1000,)</td>\n",
       "      <td>1</td>\n",
       "      <td>0.652000</td>\n",
       "      <td>0.476336</td>\n",
       "      <td>0</td>\n",
       "      <td>int64</td>\n",
       "    </tr>\n",
       "    <tr>\n",
       "      <th>y</th>\n",
       "      <td>(1000,)</td>\n",
       "      <td>1</td>\n",
       "      <td>3.721249</td>\n",
       "      <td>3.530017</td>\n",
       "      <td>0</td>\n",
       "      <td>float64</td>\n",
       "    </tr>\n",
       "    <tr>\n",
       "      <th>tx</th>\n",
       "      <td>(1000,)</td>\n",
       "      <td>1</td>\n",
       "      <td>0.716000</td>\n",
       "      <td>0.450937</td>\n",
       "      <td>0</td>\n",
       "      <td>int64</td>\n",
       "    </tr>\n",
       "    <tr>\n",
       "      <th>time_cens</th>\n",
       "      <td>(1000,)</td>\n",
       "      <td>1</td>\n",
       "      <td>0.081249</td>\n",
       "      <td>5.128559</td>\n",
       "      <td>0</td>\n",
       "      <td>float64</td>\n",
       "    </tr>\n",
       "    <tr>\n",
       "      <th>deceased</th>\n",
       "      <td>(1000,)</td>\n",
       "      <td>1</td>\n",
       "      <td>0.818000</td>\n",
       "      <td>0.385845</td>\n",
       "      <td>0</td>\n",
       "      <td>bool</td>\n",
       "    </tr>\n",
       "  </tbody>\n",
       "</table>\n",
       "</div>"
      ],
      "text/plain": [
       "            shapes  dims     means      stds  nas   dtypes\n",
       "age        (1000,)     1 -0.028320  1.002480    0  float64\n",
       "proxy1     (1000,)     1  0.156000  0.362855    0    int64\n",
       "proxy2     (1000,)     1  0.652000  0.476336    0    int64\n",
       "y          (1000,)     1  3.721249  3.530017    0  float64\n",
       "tx         (1000,)     1  0.716000  0.450937    0    int64\n",
       "time_cens  (1000,)     1  0.081249  5.128559    0  float64\n",
       "deceased   (1000,)     1  0.818000  0.385845    0     bool"
      ]
     },
     "execution_count": 2,
     "metadata": {},
     "output_type": "execute_result"
    }
   ],
   "source": [
    "# read the simulated data\n",
    "data_pd = pd.read_csv(\"data1000.csv\")\n",
    "data = {k: np.array(v) for k, v in data_pd.items()}\n",
    "pd.DataFrame(summarize_data(data))"
   ]
  },
  {
   "cell_type": "code",
   "execution_count": 3,
   "id": "d1d9cb9c",
   "metadata": {},
   "outputs": [
    {
     "data": {
      "text/plain": [
       "True"
      ]
     },
     "execution_count": 3,
     "metadata": {},
     "output_type": "execute_result"
    }
   ],
   "source": [
    "from model import tutorial_model as mymodel\n",
    "metadata = load_yaml('metadata.yaml')\n",
    "\n",
    "model = PROTECTModel(mymodel, metadata, prior_spec=\"priors.csv\", data=data)\n",
    "model.check_data(data)\n"
   ]
  },
  {
   "cell_type": "code",
   "execution_count": 4,
   "id": "d211d5dd",
   "metadata": {},
   "outputs": [],
   "source": [
    "# run the model forward once with a random seed\n",
    "output = model.sample(123,data)\n",
    "\n",
    "# create protector object\n",
    "protector = PROTECTInference(model, data)"
   ]
  },
  {
   "cell_type": "code",
   "execution_count": 5,
   "id": "dbe0dd5a",
   "metadata": {},
   "outputs": [
    {
     "data": {
      "text/html": [
       "<div>\n",
       "<style scoped>\n",
       "    .dataframe tbody tr th:only-of-type {\n",
       "        vertical-align: middle;\n",
       "    }\n",
       "\n",
       "    .dataframe tbody tr th {\n",
       "        vertical-align: top;\n",
       "    }\n",
       "\n",
       "    .dataframe thead th {\n",
       "        text-align: right;\n",
       "    }\n",
       "</style>\n",
       "<table border=\"1\" class=\"dataframe\">\n",
       "  <thead>\n",
       "    <tr style=\"text-align: right;\">\n",
       "      <th></th>\n",
       "      <th>mean</th>\n",
       "      <th>sd</th>\n",
       "      <th>hdi_2.5%</th>\n",
       "      <th>hdi_97.5%</th>\n",
       "      <th>mcse_mean</th>\n",
       "      <th>mcse_sd</th>\n",
       "      <th>ess_bulk</th>\n",
       "      <th>ess_tail</th>\n",
       "      <th>r_hat</th>\n",
       "    </tr>\n",
       "  </thead>\n",
       "  <tbody>\n",
       "    <tr>\n",
       "      <th>mu_tx</th>\n",
       "      <td>-0.484</td>\n",
       "      <td>0.199</td>\n",
       "      <td>-0.890</td>\n",
       "      <td>-0.120</td>\n",
       "      <td>0.006</td>\n",
       "      <td>0.004</td>\n",
       "      <td>916.0</td>\n",
       "      <td>488.0</td>\n",
       "      <td>1.0</td>\n",
       "    </tr>\n",
       "    <tr>\n",
       "      <th>mu_proxy1</th>\n",
       "      <td>-0.160</td>\n",
       "      <td>0.282</td>\n",
       "      <td>-0.709</td>\n",
       "      <td>0.411</td>\n",
       "      <td>0.009</td>\n",
       "      <td>0.006</td>\n",
       "      <td>1032.0</td>\n",
       "      <td>1321.0</td>\n",
       "      <td>1.0</td>\n",
       "    </tr>\n",
       "    <tr>\n",
       "      <th>mu_proxy2</th>\n",
       "      <td>-2.941</td>\n",
       "      <td>0.360</td>\n",
       "      <td>-3.696</td>\n",
       "      <td>-2.284</td>\n",
       "      <td>0.013</td>\n",
       "      <td>0.008</td>\n",
       "      <td>765.0</td>\n",
       "      <td>1173.0</td>\n",
       "      <td>1.0</td>\n",
       "    </tr>\n",
       "    <tr>\n",
       "      <th>b_tx_y</th>\n",
       "      <td>-0.102</td>\n",
       "      <td>0.132</td>\n",
       "      <td>-0.344</td>\n",
       "      <td>0.159</td>\n",
       "      <td>0.003</td>\n",
       "      <td>0.002</td>\n",
       "      <td>1804.0</td>\n",
       "      <td>1541.0</td>\n",
       "      <td>1.0</td>\n",
       "    </tr>\n",
       "    <tr>\n",
       "      <th>b_F_proxy1</th>\n",
       "      <td>-4.455</td>\n",
       "      <td>0.751</td>\n",
       "      <td>-5.860</td>\n",
       "      <td>-2.924</td>\n",
       "      <td>0.024</td>\n",
       "      <td>0.017</td>\n",
       "      <td>976.0</td>\n",
       "      <td>1289.0</td>\n",
       "      <td>1.0</td>\n",
       "    </tr>\n",
       "    <tr>\n",
       "      <th>b_F_proxy2</th>\n",
       "      <td>-4.275</td>\n",
       "      <td>0.616</td>\n",
       "      <td>-5.522</td>\n",
       "      <td>-3.169</td>\n",
       "      <td>0.022</td>\n",
       "      <td>0.014</td>\n",
       "      <td>743.0</td>\n",
       "      <td>1236.0</td>\n",
       "      <td>1.0</td>\n",
       "    </tr>\n",
       "    <tr>\n",
       "      <th>b_F_tx</th>\n",
       "      <td>0.898</td>\n",
       "      <td>0.389</td>\n",
       "      <td>0.140</td>\n",
       "      <td>1.651</td>\n",
       "      <td>0.013</td>\n",
       "      <td>0.009</td>\n",
       "      <td>819.0</td>\n",
       "      <td>428.0</td>\n",
       "      <td>1.0</td>\n",
       "    </tr>\n",
       "    <tr>\n",
       "      <th>b_F_y</th>\n",
       "      <td>-1.349</td>\n",
       "      <td>0.255</td>\n",
       "      <td>-1.826</td>\n",
       "      <td>-0.830</td>\n",
       "      <td>0.008</td>\n",
       "      <td>0.006</td>\n",
       "      <td>1119.0</td>\n",
       "      <td>1193.0</td>\n",
       "      <td>1.0</td>\n",
       "    </tr>\n",
       "    <tr>\n",
       "      <th>b_Ftx_y</th>\n",
       "      <td>0.112</td>\n",
       "      <td>0.209</td>\n",
       "      <td>-0.308</td>\n",
       "      <td>0.498</td>\n",
       "      <td>0.005</td>\n",
       "      <td>0.004</td>\n",
       "      <td>2107.0</td>\n",
       "      <td>1488.0</td>\n",
       "      <td>1.0</td>\n",
       "    </tr>\n",
       "    <tr>\n",
       "      <th>b_age_F</th>\n",
       "      <td>-0.837</td>\n",
       "      <td>0.099</td>\n",
       "      <td>-1.032</td>\n",
       "      <td>-0.658</td>\n",
       "      <td>0.003</td>\n",
       "      <td>0.002</td>\n",
       "      <td>1103.0</td>\n",
       "      <td>1528.0</td>\n",
       "      <td>1.0</td>\n",
       "    </tr>\n",
       "    <tr>\n",
       "      <th>alpha0</th>\n",
       "      <td>0.714</td>\n",
       "      <td>0.046</td>\n",
       "      <td>0.623</td>\n",
       "      <td>0.796</td>\n",
       "      <td>0.001</td>\n",
       "      <td>0.001</td>\n",
       "      <td>2849.0</td>\n",
       "      <td>1534.0</td>\n",
       "      <td>1.0</td>\n",
       "    </tr>\n",
       "    <tr>\n",
       "      <th>beta0</th>\n",
       "      <td>-0.142</td>\n",
       "      <td>0.136</td>\n",
       "      <td>-0.396</td>\n",
       "      <td>0.126</td>\n",
       "      <td>0.004</td>\n",
       "      <td>0.003</td>\n",
       "      <td>1476.0</td>\n",
       "      <td>1419.0</td>\n",
       "      <td>1.0</td>\n",
       "    </tr>\n",
       "    <tr>\n",
       "      <th>nu0</th>\n",
       "      <td>-0.041</td>\n",
       "      <td>0.029</td>\n",
       "      <td>-0.098</td>\n",
       "      <td>0.014</td>\n",
       "      <td>0.001</td>\n",
       "      <td>0.001</td>\n",
       "      <td>2253.0</td>\n",
       "      <td>1426.0</td>\n",
       "      <td>1.0</td>\n",
       "    </tr>\n",
       "  </tbody>\n",
       "</table>\n",
       "</div>"
      ],
      "text/plain": [
       "             mean     sd  hdi_2.5%  hdi_97.5%  mcse_mean  mcse_sd  ess_bulk  \\\n",
       "mu_tx      -0.484  0.199    -0.890     -0.120      0.006    0.004     916.0   \n",
       "mu_proxy1  -0.160  0.282    -0.709      0.411      0.009    0.006    1032.0   \n",
       "mu_proxy2  -2.941  0.360    -3.696     -2.284      0.013    0.008     765.0   \n",
       "b_tx_y     -0.102  0.132    -0.344      0.159      0.003    0.002    1804.0   \n",
       "b_F_proxy1 -4.455  0.751    -5.860     -2.924      0.024    0.017     976.0   \n",
       "b_F_proxy2 -4.275  0.616    -5.522     -3.169      0.022    0.014     743.0   \n",
       "b_F_tx      0.898  0.389     0.140      1.651      0.013    0.009     819.0   \n",
       "b_F_y      -1.349  0.255    -1.826     -0.830      0.008    0.006    1119.0   \n",
       "b_Ftx_y     0.112  0.209    -0.308      0.498      0.005    0.004    2107.0   \n",
       "b_age_F    -0.837  0.099    -1.032     -0.658      0.003    0.002    1103.0   \n",
       "alpha0      0.714  0.046     0.623      0.796      0.001    0.001    2849.0   \n",
       "beta0      -0.142  0.136    -0.396      0.126      0.004    0.003    1476.0   \n",
       "nu0        -0.041  0.029    -0.098      0.014      0.001    0.001    2253.0   \n",
       "\n",
       "            ess_tail  r_hat  \n",
       "mu_tx          488.0    1.0  \n",
       "mu_proxy1     1321.0    1.0  \n",
       "mu_proxy2     1173.0    1.0  \n",
       "b_tx_y        1541.0    1.0  \n",
       "b_F_proxy1    1289.0    1.0  \n",
       "b_F_proxy2    1236.0    1.0  \n",
       "b_F_tx         428.0    1.0  \n",
       "b_F_y         1193.0    1.0  \n",
       "b_Ftx_y       1488.0    1.0  \n",
       "b_age_F       1528.0    1.0  \n",
       "alpha0        1534.0    1.0  \n",
       "beta0         1419.0    1.0  \n",
       "nu0           1426.0    1.0  "
      ]
     },
     "execution_count": 5,
     "metadata": {},
     "output_type": "execute_result"
    }
   ],
   "source": [
    "# run inference on original data\n",
    "rng_key, k_mcmc = random.split(rng_key)\n",
    "samples = protector.run_inference(k_mcmc,\n",
    "                                  mcmc_kwargs={'num_samples': 500, 'num_warmup': 100, 'num_chains': 4,\n",
    "                                               'chain_method': 'parallel', 'progress_bar': False},)\n",
    "protector.get_summary()"
   ]
  },
  {
   "cell_type": "markdown",
   "id": "2a7380a4",
   "metadata": {},
   "source": [
    "### Potentially save samples for later use"
   ]
  },
  {
   "cell_type": "code",
   "execution_count": 6,
   "id": "10a6519c",
   "metadata": {},
   "outputs": [],
   "source": [
    "# samples_by_chain = protector.get_samples(group_by_chain=True)\n",
    "# azd_globals = az.from_dict({k: v for k, v in samples_by_chain.items() if k in model.global_prms})\n",
    "# azd_globals.to_netcdf(\"global_samples.nc\")"
   ]
  },
  {
   "cell_type": "markdown",
   "id": "5a05a08b",
   "metadata": {},
   "source": [
    "## Perform PROTECT model checks"
   ]
  },
  {
   "cell_type": "code",
   "execution_count": 7,
   "id": "b3fd0143",
   "metadata": {},
   "outputs": [
    {
     "name": "stdout",
     "output_type": "stream",
     "text": [
      "all checks passed: False\n"
     ]
    },
    {
     "data": {
      "text/html": [
       "<div>\n",
       "<style scoped>\n",
       "    .dataframe tbody tr th:only-of-type {\n",
       "        vertical-align: middle;\n",
       "    }\n",
       "\n",
       "    .dataframe tbody tr th {\n",
       "        vertical-align: top;\n",
       "    }\n",
       "\n",
       "    .dataframe thead th {\n",
       "        text-align: right;\n",
       "    }\n",
       "</style>\n",
       "<table border=\"1\" class=\"dataframe\">\n",
       "  <thead>\n",
       "    <tr style=\"text-align: right;\">\n",
       "      <th></th>\n",
       "      <th></th>\n",
       "      <th>baseline</th>\n",
       "      <th>protect</th>\n",
       "      <th>passed</th>\n",
       "      <th>no_proxy</th>\n",
       "      <th>no_proxy_no_tx</th>\n",
       "      <th>no_proxy_no_y</th>\n",
       "      <th>tx_informative</th>\n",
       "      <th>y_informative</th>\n",
       "    </tr>\n",
       "    <tr>\n",
       "      <th></th>\n",
       "      <th>obs_var</th>\n",
       "      <th></th>\n",
       "      <th></th>\n",
       "      <th></th>\n",
       "      <th></th>\n",
       "      <th></th>\n",
       "      <th></th>\n",
       "      <th></th>\n",
       "      <th></th>\n",
       "    </tr>\n",
       "  </thead>\n",
       "  <tbody>\n",
       "    <tr>\n",
       "      <th rowspan=\"4\" valign=\"top\">set1</th>\n",
       "      <th>proxy1</th>\n",
       "      <td>-435.16266</td>\n",
       "      <td>-406.17938</td>\n",
       "      <td>True</td>\n",
       "      <td>NaN</td>\n",
       "      <td>NaN</td>\n",
       "      <td>NaN</td>\n",
       "      <td>NaN</td>\n",
       "      <td>NaN</td>\n",
       "    </tr>\n",
       "    <tr>\n",
       "      <th>proxy2</th>\n",
       "      <td>-647.8445</td>\n",
       "      <td>-602.82275</td>\n",
       "      <td>True</td>\n",
       "      <td>NaN</td>\n",
       "      <td>NaN</td>\n",
       "      <td>NaN</td>\n",
       "      <td>NaN</td>\n",
       "      <td>NaN</td>\n",
       "    </tr>\n",
       "    <tr>\n",
       "      <th>y</th>\n",
       "      <td>-1927.1012</td>\n",
       "      <td>-1910.0953</td>\n",
       "      <td>True</td>\n",
       "      <td>NaN</td>\n",
       "      <td>NaN</td>\n",
       "      <td>NaN</td>\n",
       "      <td>NaN</td>\n",
       "      <td>NaN</td>\n",
       "    </tr>\n",
       "    <tr>\n",
       "      <th>tx</th>\n",
       "      <td>-596.6919</td>\n",
       "      <td>-595.482</td>\n",
       "      <td>True</td>\n",
       "      <td>NaN</td>\n",
       "      <td>NaN</td>\n",
       "      <td>NaN</td>\n",
       "      <td>NaN</td>\n",
       "      <td>NaN</td>\n",
       "    </tr>\n",
       "    <tr>\n",
       "      <th rowspan=\"2\" valign=\"top\">set2</th>\n",
       "      <th>proxy1</th>\n",
       "      <td>NaN</td>\n",
       "      <td>NaN</td>\n",
       "      <td>False</td>\n",
       "      <td>-406.17938</td>\n",
       "      <td>-406.0495</td>\n",
       "      <td>-405.96304</td>\n",
       "      <td>False</td>\n",
       "      <td>False</td>\n",
       "    </tr>\n",
       "    <tr>\n",
       "      <th>proxy2</th>\n",
       "      <td>NaN</td>\n",
       "      <td>NaN</td>\n",
       "      <td>False</td>\n",
       "      <td>-602.82275</td>\n",
       "      <td>-601.4966</td>\n",
       "      <td>-605.3612</td>\n",
       "      <td>False</td>\n",
       "      <td>True</td>\n",
       "    </tr>\n",
       "  </tbody>\n",
       "</table>\n",
       "</div>"
      ],
      "text/plain": [
       "                baseline     protect passed    no_proxy no_proxy_no_tx  \\\n",
       "     obs_var                                                             \n",
       "set1 proxy1   -435.16266  -406.17938   True         NaN            NaN   \n",
       "     proxy2    -647.8445  -602.82275   True         NaN            NaN   \n",
       "     y        -1927.1012  -1910.0953   True         NaN            NaN   \n",
       "     tx        -596.6919    -595.482   True         NaN            NaN   \n",
       "set2 proxy1          NaN         NaN  False  -406.17938      -406.0495   \n",
       "     proxy2          NaN         NaN  False  -602.82275      -601.4966   \n",
       "\n",
       "             no_proxy_no_y tx_informative y_informative  \n",
       "     obs_var                                             \n",
       "set1 proxy1            NaN            NaN           NaN  \n",
       "     proxy2            NaN            NaN           NaN  \n",
       "     y                 NaN            NaN           NaN  \n",
       "     tx                NaN            NaN           NaN  \n",
       "set2 proxy1     -405.96304          False         False  \n",
       "     proxy2      -605.3612          False          True  "
      ]
     },
     "execution_count": 7,
     "metadata": {},
     "output_type": "execute_result"
    }
   ],
   "source": [
    "rng_key, k_modelcheck = random.split(rng_key, 2)\n",
    "# setting num_folds = 2 and num_global_samples = 10 for speed; defaults (num_folds=5, num_global_samples=1000) are better values\n",
    "model_check_results, _ = protector.model_checks(k_modelcheck, num_folds=2, num_global_samples=10)\n",
    "# summarize the model checks\n",
    "model_check_evaluation = protector.protect_model.model_check_evaluation(model_check_results)\n",
    "print(f\"all checks passed: {model_check_evaluation['all_passed']}\")\n",
    "model_check_df = model_check_evaluation_to_df(model_check_evaluation)\n",
    "model_check_df"
   ]
  },
  {
   "cell_type": "markdown",
   "id": "c84134ea",
   "metadata": {},
   "source": [
    "## Calculate marginalized hazard ratio for model\n",
    "\n",
    "The default outcome model in protect is a power generalized weibull (PGW) model.\n",
    "The treatment parameter is a hazard ratio.\n",
    "Because the hazard ratio is non-collapsible, we need to marginalize it over the population in order to compare it to a marginal hazard ratio from a (hypothetical) randomized trial.\n",
    "This needs to be done for every sample of the posterior distribution over parameters to get a distribution over the marginalized hazard ratio.\n",
    "\n",
    "For the PGW model, there is an inbuilt method to do this.\n",
    "For other non-collapsible outcome models (e.g. other non-collapsible survival models, logistic regresion, ...), you will need to run `protect.run_postpred_mcmc` with `pp_mode=\"no_txy\"` to get samples from the predictive distribution that includes the local (latent) parameter.\n",
    "From this you can simulate outcomes under hypothetical RCTs conditional on the parameter estimate, where you should simulate outcomes for two copies of the data: one with treatment set to 0 and one with treatment set to 1.\n",
    "For each sample, analyze the data as you would in a real RCT, e.g. a Cox proportional hazards model or a logistic regression model.\n",
    "This will give you a posterior distribution over the marginalized effect parameter.\n"
   ]
  },
  {
   "cell_type": "code",
   "execution_count": 8,
   "id": "825eb86b",
   "metadata": {},
   "outputs": [],
   "source": [
    "rng_key, rng_marginalization = random.split(rng_key)\n",
    "marg_results = protector.get_marginalized_hazard_ratio(\n",
    "    rng_marginalization, samples\n",
    ")"
   ]
  },
  {
   "cell_type": "code",
   "execution_count": 9,
   "id": "d7716377",
   "metadata": {},
   "outputs": [
    {
     "name": "stdout",
     "output_type": "stream",
     "text": [
      "max iterations needed: 2\n",
      "marginal_hr.mean()=-0.040 with std 0.093\n"
     ]
    }
   ],
   "source": [
    "marginal_hr = marg_results['params'][:,1]\n",
    "converged = marg_results['converged']\n",
    "assert (converged).all(), \"Not all samples converged\"\n",
    "print(f\"max iterations needed: {marg_results['i'].max()}\")\n",
    "print(f\"{marginal_hr.mean()=:.3f} with std {marginal_hr.std():.3f}\")\n"
   ]
  },
  {
   "cell_type": "code",
   "execution_count": 10,
   "id": "b50ac2af",
   "metadata": {},
   "outputs": [
    {
     "name": "stderr",
     "output_type": "stream",
     "text": [
      "/var/folders/lz/l2_06bbx7fn4z318dtwnb3x40000gp/T/ipykernel_18083/1875183064.py:9: UserWarning: No artists with labels found to put in legend.  Note that artists whose label start with an underscore are ignored when legend() is called with no argument.\n",
      "  plt.legend()\n"
     ]
    },
    {
     "data": {
      "image/png": "[encoded data removed]",
      "text/plain": [
       "<Figure size 640x480 with 1 Axes>"
      ]
     },
     "metadata": {},
     "output_type": "display_data"
    }
   ],
   "source": [
    "# plot density of marginal_hr for those that have converged\n",
    "import seaborn as sns\n",
    "import matplotlib.pyplot as plt\n",
    "sns.kdeplot(marginal_hr)\n",
    "\n",
    "# add strip plot for non-converged values\n",
    "# non_conv_hr = marginal_hr[non_converged_iis]\n",
    "# sns.stripplot(x=non_conv_hr, color='red', label='non-converged', alpha=0.5)\n",
    "plt.legend()\n",
    "plt.title('Marginalized Hazard Ratio Density')\n",
    "plt.xlabel('Hazard Ratio')\n",
    "plt.ylabel('Density')\n",
    "plt.show()\n"
   ]
  },
  {
   "cell_type": "markdown",
   "id": "4560cac8",
   "metadata": {},
   "source": [
    "## Plot survival curves for average outcomes\n",
    "\n",
    "The better way to approach this is to estimate survival curves for every posterior sample, and then average the curves.\n",
    "The current approach averages survival times per patient and then plots the survival curve for the expected survival time per patient.\n",
    "\n",
    "\n"
   ]
  },
  {
   "cell_type": "code",
   "execution_count": 11,
   "id": "e23a8bfc",
   "metadata": {},
   "outputs": [],
   "source": [
    "et0 = marg_results['time0'].mean(axis=0)\n",
    "et1 = marg_results['time1'].mean(axis=0)\n",
    "\n",
    "e0 = et0 > 0\n",
    "t0 = jnp.abs(et0)\n",
    "e1 = et1 > 0\n",
    "t1 = jnp.abs(et1)\n"
   ]
  },
  {
   "cell_type": "code",
   "execution_count": 12,
   "id": "e63b2e84",
   "metadata": {},
   "outputs": [
    {
     "data": {
      "text/plain": [
       "<matplotlib.legend.Legend at 0x168f602c0>"
      ]
     },
     "execution_count": 12,
     "metadata": {},
     "output_type": "execute_result"
    },
    {
     "data": {
      "image/png": "[encoded data removed]",
      "text/plain": [
       "<Figure size 640x480 with 1 Axes>"
      ]
     },
     "metadata": {},
     "output_type": "display_data"
    }
   ],
   "source": [
    "from sksurv.nonparametric import kaplan_meier_estimator\n",
    "from matplotlib import pyplot as plt\n",
    "\n",
    "tt0, s0, ci0 = kaplan_meier_estimator(e0, t0, conf_type=\"log-log\")\n",
    "tt1, s1, ci1 = kaplan_meier_estimator(e1, t1, conf_type=\"log-log\")\n",
    "\n",
    "plt.step(tt0, s0, where=\"post\", label=\"treatment 0\")\n",
    "plt.fill_between(tt0, ci0[0], ci0[1], alpha=0.25, step=\"post\")\n",
    "plt.step(tt1, s1, where=\"post\", label=\"treatment 1\")\n",
    "plt.fill_between(tt1, ci1[0], ci1[1], alpha=0.25, step=\"post\")\n",
    "\n",
    "plt.ylim(0, 1)\n",
    "plt.ylabel(r\"est. probability of survival $\\hat{S}(t)$\")\n",
    "plt.xlabel(\"time $t$\")\n",
    "plt.legend(loc=\"best\")"
   ]
  },
  {
   "cell_type": "markdown",
   "id": "c4f18d2a",
   "metadata": {},
   "source": [
    "## Evaluate predictive performance\n",
    "\n",
    "We evaluate Harrell's c-index to assess discrimatory performance of the model.\n",
    "For this, we need to get posterior predictive samples.\n",
    "These can either condition on all variables except survival (`pp_mode='no_y'`),\n",
    "or on all variables except survival **and** treatment, which would mimic predicting survival under hypothetical treatment or no treatment (like in an RCT) (`pp_mode='no_txy'`).\n"
   ]
  },
  {
   "cell_type": "code",
   "execution_count": 13,
   "id": "c0035a9d",
   "metadata": {},
   "outputs": [],
   "source": [
    "smps_no_y = protector.run_postpred_mcmc(random.PRNGKey(7), samples, pp_mode=\"no_y\", num_local_draws=100)\n",
    "smps_no_txy = protector.run_postpred_mcmc(random.PRNGKey(7), samples, pp_mode=\"no_txy\", num_local_draws=100)"
   ]
  },
  {
   "cell_type": "code",
   "execution_count": 14,
   "id": "aa997110",
   "metadata": {},
   "outputs": [
    {
     "name": "stdout",
     "output_type": "stream",
     "text": [
      "c index (95% CI) for no_y: 0.549, ([0.53488   0.5613132])\n",
      "c index (95% CI) for no_txy: 0.549, ([0.5374924 0.5634963])\n"
     ]
    }
   ],
   "source": [
    "c_index_no_y = protector.get_c_index(pp_mode=\"no_y\", posterior_samples=smps_no_y)\n",
    "c_index_no_txy = protector.get_c_index(pp_mode=\"no_txy\", posterior_samples=smps_no_txy)\n",
    "\n",
    "print(f\"c index (95% CI) for no_y: {c_index_no_y.mean():.3f}, ({az.hdi(np.array(c_index_no_y))})\")\n",
    "print(f\"c index (95% CI) for no_txy: {c_index_no_txy.mean():.3f}, ({az.hdi(np.array(c_index_no_txy))})\")"
   ]
  },
  {
   "cell_type": "markdown",
   "id": "ba31a1bd",
   "metadata": {},
   "source": [
    "We can also evaluate how good the model is in predicting treatment (with or without conditioning on survival). For this we calculate the AUC."
   ]
  },
  {
   "cell_type": "code",
   "execution_count": 15,
   "id": "3f088263",
   "metadata": {},
   "outputs": [],
   "source": [
    "smps_no_tx = protector.run_postpred_mcmc(rng_key, pp_mode=\"no_tx\", posterior_samples=samples)"
   ]
  },
  {
   "cell_type": "code",
   "execution_count": 16,
   "id": "e74b0143",
   "metadata": {},
   "outputs": [
    {
     "name": "stdout",
     "output_type": "stream",
     "text": [
      "auc for predicting treatment (95% CI) for no_tx: 0.537, ([0.51858425 0.5691144 ])\n",
      "auc for predicting treatment (95% CI) for no_txy: 0.530, ([0.51186657 0.55848217])\n"
     ]
    }
   ],
   "source": [
    "auc_no_tx = protector.get_treatment_auc(pp_mode=\"no_tx\", posterior_samples=smps_no_tx)\n",
    "auc_no_txy = protector.get_treatment_auc(pp_mode=\"no_txy\", posterior_samples=smps_no_txy)\n",
    "print(f\"auc for predicting treatment (95% CI) for no_tx: {auc_no_tx.mean():.3f}, ({az.hdi(np.array(auc_no_tx))})\")\n",
    "print(f\"auc for predicting treatment (95% CI) for no_txy: {auc_no_txy.mean():.3f}, ({az.hdi(np.array(auc_no_txy))})\")"
   ]
  }
 ],
 "metadata": {
  "kernelspec": {
   "display_name": "protectcode (3.12.9)",
   "language": "python",
   "name": "python3"
  },
  "language_info": {
   "codemirror_mode": {
    "name": "ipython",
    "version": 3
   },
   "file_extension": ".py",
   "mimetype": "text/x-python",
   "name": "python",
   "nbconvert_exporter": "python",
   "pygments_lexer": "ipython3",
   "version": "3.12.9"
  }
 },
 "nbformat": 4,
 "nbformat_minor": 5
}
