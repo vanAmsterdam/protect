{
 "cells": [
  {
   "cell_type": "markdown",
   "id": "9d7a3e86",
   "metadata": {},
   "source": [
    "# Inference demo\n",
    "\n",
    "This notebook walks you through the main steps of running inference on a single PROTECT model"
   ]
  },
  {
   "cell_type": "code",
   "execution_count": 8,
   "id": "315fca1c",
   "metadata": {},
   "outputs": [],
   "source": [
    "import arviz as az, numpy as np, numpyro\n",
    "numpyro.set_host_device_count(8)\n",
    "import pandas as pd\n",
    "from jax import numpy as jnp, random;\n",
    "rng_key = random.PRNGKey(0)\n",
    "from protect.models import PROTECTModel\n",
    "from protect.inference import PROTECTInference\n",
    "from protect.utils import load_yaml\n",
    "from protect.utils import summary_likelihoods_to_df, model_check_evaluation_to_df, summarize_data"
   ]
  },
  {
   "cell_type": "code",
   "execution_count": 10,
   "id": "027b0e15",
   "metadata": {},
   "outputs": [
    {
     "data": {
      "text/html": [
       "<div>\n",
       "<style scoped>\n",
       "    .dataframe tbody tr th:only-of-type {\n",
       "        vertical-align: middle;\n",
       "    }\n",
       "\n",
       "    .dataframe tbody tr th {\n",
       "        vertical-align: top;\n",
       "    }\n",
       "\n",
       "    .dataframe thead th {\n",
       "        text-align: right;\n",
       "    }\n",
       "</style>\n",
       "<table border=\"1\" class=\"dataframe\">\n",
       "  <thead>\n",
       "    <tr style=\"text-align: right;\">\n",
       "      <th></th>\n",
       "      <th>shapes</th>\n",
       "      <th>dims</th>\n",
       "      <th>means</th>\n",
       "      <th>stds</th>\n",
       "      <th>nas</th>\n",
       "      <th>dtypes</th>\n",
       "    </tr>\n",
       "  </thead>\n",
       "  <tbody>\n",
       "    <tr>\n",
       "      <th>age</th>\n",
       "      <td>(1000,)</td>\n",
       "      <td>1</td>\n",
       "      <td>-0.028320</td>\n",
       "      <td>1.002480</td>\n",
       "      <td>0</td>\n",
       "      <td>float64</td>\n",
       "    </tr>\n",
       "    <tr>\n",
       "      <th>proxy1</th>\n",
       "      <td>(1000,)</td>\n",
       "      <td>1</td>\n",
       "      <td>0.156000</td>\n",
       "      <td>0.362855</td>\n",
       "      <td>0</td>\n",
       "      <td>int64</td>\n",
       "    </tr>\n",
       "    <tr>\n",
       "      <th>proxy2</th>\n",
       "      <td>(1000,)</td>\n",
       "      <td>1</td>\n",
       "      <td>0.652000</td>\n",
       "      <td>0.476336</td>\n",
       "      <td>0</td>\n",
       "      <td>int64</td>\n",
       "    </tr>\n",
       "    <tr>\n",
       "      <th>y</th>\n",
       "      <td>(1000,)</td>\n",
       "      <td>1</td>\n",
       "      <td>3.721249</td>\n",
       "      <td>3.530017</td>\n",
       "      <td>0</td>\n",
       "      <td>float64</td>\n",
       "    </tr>\n",
       "    <tr>\n",
       "      <th>tx</th>\n",
       "      <td>(1000,)</td>\n",
       "      <td>1</td>\n",
       "      <td>0.716000</td>\n",
       "      <td>0.450937</td>\n",
       "      <td>0</td>\n",
       "      <td>int64</td>\n",
       "    </tr>\n",
       "    <tr>\n",
       "      <th>time_cens</th>\n",
       "      <td>(1000,)</td>\n",
       "      <td>1</td>\n",
       "      <td>0.081249</td>\n",
       "      <td>5.128559</td>\n",
       "      <td>0</td>\n",
       "      <td>float64</td>\n",
       "    </tr>\n",
       "    <tr>\n",
       "      <th>deceased</th>\n",
       "      <td>(1000,)</td>\n",
       "      <td>1</td>\n",
       "      <td>0.818000</td>\n",
       "      <td>0.385845</td>\n",
       "      <td>0</td>\n",
       "      <td>bool</td>\n",
       "    </tr>\n",
       "  </tbody>\n",
       "</table>\n",
       "</div>"
      ],
      "text/plain": [
       "            shapes  dims     means      stds  nas   dtypes\n",
       "age        (1000,)     1 -0.028320  1.002480    0  float64\n",
       "proxy1     (1000,)     1  0.156000  0.362855    0    int64\n",
       "proxy2     (1000,)     1  0.652000  0.476336    0    int64\n",
       "y          (1000,)     1  3.721249  3.530017    0  float64\n",
       "tx         (1000,)     1  0.716000  0.450937    0    int64\n",
       "time_cens  (1000,)     1  0.081249  5.128559    0  float64\n",
       "deceased   (1000,)     1  0.818000  0.385845    0     bool"
      ]
     },
     "execution_count": 10,
     "metadata": {},
     "output_type": "execute_result"
    }
   ],
   "source": [
    "# read the simulated data\n",
    "data_pd = pd.read_csv(\"data1000.csv\")\n",
    "data = {k: np.array(v) for k, v in data_pd.items()}\n",
    "pd.DataFrame(summarize_data(data))"
   ]
  },
  {
   "cell_type": "code",
   "execution_count": 3,
   "id": "d1d9cb9c",
   "metadata": {},
   "outputs": [
    {
     "data": {
      "text/plain": [
       "True"
      ]
     },
     "execution_count": 3,
     "metadata": {},
     "output_type": "execute_result"
    }
   ],
   "source": [
    "from model import tutorial_model as mymodel\n",
    "metadata = load_yaml('metadata.yaml')\n",
    "\n",
    "model = PROTECTModel(mymodel, metadata, prior_spec=\"priors.csv\", data=data)\n",
    "model.check_data(data)\n"
   ]
  },
  {
   "cell_type": "code",
   "execution_count": 4,
   "id": "d211d5dd",
   "metadata": {},
   "outputs": [],
   "source": [
    "# run the model forward once with a random seed\n",
    "output = model.sample(123,data)\n",
    "\n",
    "# create protector object\n",
    "protector = PROTECTInference(model, data)"
   ]
  },
  {
   "cell_type": "code",
   "execution_count": 5,
   "id": "dbe0dd5a",
   "metadata": {},
   "outputs": [
    {
     "data": {
      "text/html": [
       "<div>\n",
       "<style scoped>\n",
       "    .dataframe tbody tr th:only-of-type {\n",
       "        vertical-align: middle;\n",
       "    }\n",
       "\n",
       "    .dataframe tbody tr th {\n",
       "        vertical-align: top;\n",
       "    }\n",
       "\n",
       "    .dataframe thead th {\n",
       "        text-align: right;\n",
       "    }\n",
       "</style>\n",
       "<table border=\"1\" class=\"dataframe\">\n",
       "  <thead>\n",
       "    <tr style=\"text-align: right;\">\n",
       "      <th></th>\n",
       "      <th>mean</th>\n",
       "      <th>sd</th>\n",
       "      <th>hdi_2.5%</th>\n",
       "      <th>hdi_97.5%</th>\n",
       "      <th>mcse_mean</th>\n",
       "      <th>mcse_sd</th>\n",
       "      <th>ess_bulk</th>\n",
       "      <th>ess_tail</th>\n",
       "      <th>r_hat</th>\n",
       "    </tr>\n",
       "  </thead>\n",
       "  <tbody>\n",
       "    <tr>\n",
       "      <th>mu_tx</th>\n",
       "      <td>-0.484</td>\n",
       "      <td>0.199</td>\n",
       "      <td>-0.890</td>\n",
       "      <td>-0.120</td>\n",
       "      <td>0.006</td>\n",
       "      <td>0.004</td>\n",
       "      <td>916.0</td>\n",
       "      <td>488.0</td>\n",
       "      <td>1.0</td>\n",
       "    </tr>\n",
       "    <tr>\n",
       "      <th>mu_proxy1</th>\n",
       "      <td>-0.160</td>\n",
       "      <td>0.282</td>\n",
       "      <td>-0.709</td>\n",
       "      <td>0.411</td>\n",
       "      <td>0.009</td>\n",
       "      <td>0.006</td>\n",
       "      <td>1032.0</td>\n",
       "      <td>1321.0</td>\n",
       "      <td>1.0</td>\n",
       "    </tr>\n",
       "    <tr>\n",
       "      <th>mu_proxy2</th>\n",
       "      <td>-2.941</td>\n",
       "      <td>0.360</td>\n",
       "      <td>-3.696</td>\n",
       "      <td>-2.284</td>\n",
       "      <td>0.013</td>\n",
       "      <td>0.008</td>\n",
       "      <td>765.0</td>\n",
       "      <td>1173.0</td>\n",
       "      <td>1.0</td>\n",
       "    </tr>\n",
       "    <tr>\n",
       "      <th>b_tx_y</th>\n",
       "      <td>-0.102</td>\n",
       "      <td>0.132</td>\n",
       "      <td>-0.344</td>\n",
       "      <td>0.159</td>\n",
       "      <td>0.003</td>\n",
       "      <td>0.002</td>\n",
       "      <td>1804.0</td>\n",
       "      <td>1541.0</td>\n",
       "      <td>1.0</td>\n",
       "    </tr>\n",
       "    <tr>\n",
       "      <th>b_F_proxy1</th>\n",
       "      <td>-4.455</td>\n",
       "      <td>0.751</td>\n",
       "      <td>-5.860</td>\n",
       "      <td>-2.924</td>\n",
       "      <td>0.024</td>\n",
       "      <td>0.017</td>\n",
       "      <td>976.0</td>\n",
       "      <td>1289.0</td>\n",
       "      <td>1.0</td>\n",
       "    </tr>\n",
       "    <tr>\n",
       "      <th>b_F_proxy2</th>\n",
       "      <td>-4.275</td>\n",
       "      <td>0.616</td>\n",
       "      <td>-5.522</td>\n",
       "      <td>-3.169</td>\n",
       "      <td>0.022</td>\n",
       "      <td>0.014</td>\n",
       "      <td>743.0</td>\n",
       "      <td>1236.0</td>\n",
       "      <td>1.0</td>\n",
       "    </tr>\n",
       "    <tr>\n",
       "      <th>b_F_tx</th>\n",
       "      <td>0.898</td>\n",
       "      <td>0.389</td>\n",
       "      <td>0.140</td>\n",
       "      <td>1.651</td>\n",
       "      <td>0.013</td>\n",
       "      <td>0.009</td>\n",
       "      <td>819.0</td>\n",
       "      <td>428.0</td>\n",
       "      <td>1.0</td>\n",
       "    </tr>\n",
       "    <tr>\n",
       "      <th>b_F_y</th>\n",
       "      <td>-1.349</td>\n",
       "      <td>0.255</td>\n",
       "      <td>-1.826</td>\n",
       "      <td>-0.830</td>\n",
       "      <td>0.008</td>\n",
       "      <td>0.006</td>\n",
       "      <td>1119.0</td>\n",
       "      <td>1193.0</td>\n",
       "      <td>1.0</td>\n",
       "    </tr>\n",
       "    <tr>\n",
       "      <th>b_Ftx_y</th>\n",
       "      <td>0.112</td>\n",
       "      <td>0.209</td>\n",
       "      <td>-0.308</td>\n",
       "      <td>0.498</td>\n",
       "      <td>0.005</td>\n",
       "      <td>0.004</td>\n",
       "      <td>2107.0</td>\n",
       "      <td>1488.0</td>\n",
       "      <td>1.0</td>\n",
       "    </tr>\n",
       "    <tr>\n",
       "      <th>b_age_F</th>\n",
       "      <td>-0.837</td>\n",
       "      <td>0.099</td>\n",
       "      <td>-1.032</td>\n",
       "      <td>-0.658</td>\n",
       "      <td>0.003</td>\n",
       "      <td>0.002</td>\n",
       "      <td>1103.0</td>\n",
       "      <td>1528.0</td>\n",
       "      <td>1.0</td>\n",
       "    </tr>\n",
       "    <tr>\n",
       "      <th>alpha0</th>\n",
       "      <td>0.714</td>\n",
       "      <td>0.046</td>\n",
       "      <td>0.623</td>\n",
       "      <td>0.796</td>\n",
       "      <td>0.001</td>\n",
       "      <td>0.001</td>\n",
       "      <td>2849.0</td>\n",
       "      <td>1534.0</td>\n",
       "      <td>1.0</td>\n",
       "    </tr>\n",
       "    <tr>\n",
       "      <th>beta0</th>\n",
       "      <td>-0.142</td>\n",
       "      <td>0.136</td>\n",
       "      <td>-0.396</td>\n",
       "      <td>0.126</td>\n",
       "      <td>0.004</td>\n",
       "      <td>0.003</td>\n",
       "      <td>1476.0</td>\n",
       "      <td>1419.0</td>\n",
       "      <td>1.0</td>\n",
       "    </tr>\n",
       "    <tr>\n",
       "      <th>nu0</th>\n",
       "      <td>-0.041</td>\n",
       "      <td>0.029</td>\n",
       "      <td>-0.098</td>\n",
       "      <td>0.014</td>\n",
       "      <td>0.001</td>\n",
       "      <td>0.001</td>\n",
       "      <td>2253.0</td>\n",
       "      <td>1426.0</td>\n",
       "      <td>1.0</td>\n",
       "    </tr>\n",
       "  </tbody>\n",
       "</table>\n",
       "</div>"
      ],
      "text/plain": [
       "             mean     sd  hdi_2.5%  hdi_97.5%  mcse_mean  mcse_sd  ess_bulk  \\\n",
       "mu_tx      -0.484  0.199    -0.890     -0.120      0.006    0.004     916.0   \n",
       "mu_proxy1  -0.160  0.282    -0.709      0.411      0.009    0.006    1032.0   \n",
       "mu_proxy2  -2.941  0.360    -3.696     -2.284      0.013    0.008     765.0   \n",
       "b_tx_y     -0.102  0.132    -0.344      0.159      0.003    0.002    1804.0   \n",
       "b_F_proxy1 -4.455  0.751    -5.860     -2.924      0.024    0.017     976.0   \n",
       "b_F_proxy2 -4.275  0.616    -5.522     -3.169      0.022    0.014     743.0   \n",
       "b_F_tx      0.898  0.389     0.140      1.651      0.013    0.009     819.0   \n",
       "b_F_y      -1.349  0.255    -1.826     -0.830      0.008    0.006    1119.0   \n",
       "b_Ftx_y     0.112  0.209    -0.308      0.498      0.005    0.004    2107.0   \n",
       "b_age_F    -0.837  0.099    -1.032     -0.658      0.003    0.002    1103.0   \n",
       "alpha0      0.714  0.046     0.623      0.796      0.001    0.001    2849.0   \n",
       "beta0      -0.142  0.136    -0.396      0.126      0.004    0.003    1476.0   \n",
       "nu0        -0.041  0.029    -0.098      0.014      0.001    0.001    2253.0   \n",
       "\n",
       "            ess_tail  r_hat  \n",
       "mu_tx          488.0    1.0  \n",
       "mu_proxy1     1321.0    1.0  \n",
       "mu_proxy2     1173.0    1.0  \n",
       "b_tx_y        1541.0    1.0  \n",
       "b_F_proxy1    1289.0    1.0  \n",
       "b_F_proxy2    1236.0    1.0  \n",
       "b_F_tx         428.0    1.0  \n",
       "b_F_y         1193.0    1.0  \n",
       "b_Ftx_y       1488.0    1.0  \n",
       "b_age_F       1528.0    1.0  \n",
       "alpha0        1534.0    1.0  \n",
       "beta0         1419.0    1.0  \n",
       "nu0           1426.0    1.0  "
      ]
     },
     "execution_count": 5,
     "metadata": {},
     "output_type": "execute_result"
    }
   ],
   "source": [
    "# run inference on original data\n",
    "rng_key, k_mcmc = random.split(rng_key)\n",
    "samples = protector.run_inference(k_mcmc,\n",
    "                                  mcmc_kwargs={'num_samples': 500, 'num_warmup': 100, 'num_chains': 4,\n",
    "                                               'chain_method': 'parallel', 'progress_bar': False},)\n",
    "protector.get_summary()"
   ]
  },
  {
   "cell_type": "markdown",
   "id": "2a7380a4",
   "metadata": {},
   "source": [
    "### Potentially save samples for later use"
   ]
  },
  {
   "cell_type": "code",
   "execution_count": null,
   "id": "10a6519c",
   "metadata": {},
   "outputs": [],
   "source": [
    "# samples_by_chain = protector.get_samples(group_by_chain=True)\n",
    "# azd_globals = az.from_dict({k: v for k, v in samples_by_chain.items() if k in model.global_prms})\n",
    "# azd_globals.to_netcdf(\"global_samples.nc\")"
   ]
  },
  {
   "cell_type": "markdown",
   "id": "5a05a08b",
   "metadata": {},
   "source": [
    "## Perform PROTECT model checks"
   ]
  },
  {
   "cell_type": "code",
   "execution_count": 6,
   "id": "b3fd0143",
   "metadata": {},
   "outputs": [
    {
     "ename": "ValueError",
     "evalue": "compiling computation that requires 8 logical devices, but only 5 XLA devices are available (num_replicas=8)",
     "output_type": "error",
     "traceback": [
      "\u001b[31m---------------------------------------------------------------------------\u001b[39m",
      "\u001b[31mValueError\u001b[39m                                Traceback (most recent call last)",
      "\u001b[36mCell\u001b[39m\u001b[36m \u001b[39m\u001b[32mIn[6]\u001b[39m\u001b[32m, line 3\u001b[39m\n\u001b[32m      1\u001b[39m rng_key, k_modelcheck = random.split(rng_key, \u001b[32m2\u001b[39m)\n\u001b[32m      2\u001b[39m \u001b[38;5;66;03m# setting num_folds = 2 and num_global_samples = 10 for speed; defaults (num_folds=5, num_global_samples=1000) are better values\u001b[39;00m\n\u001b[32m----> \u001b[39m\u001b[32m3\u001b[39m model_check_results, _ = \u001b[43mprotector\u001b[49m\u001b[43m.\u001b[49m\u001b[43mmodel_checks\u001b[49m\u001b[43m(\u001b[49m\u001b[43mk_modelcheck\u001b[49m\u001b[43m,\u001b[49m\u001b[43m \u001b[49m\u001b[43mnum_folds\u001b[49m\u001b[43m=\u001b[49m\u001b[32;43m2\u001b[39;49m\u001b[43m,\u001b[49m\u001b[43m \u001b[49m\u001b[43mnum_global_samples\u001b[49m\u001b[43m=\u001b[49m\u001b[32;43m10\u001b[39;49m\u001b[43m)\u001b[49m\n\u001b[32m      4\u001b[39m \u001b[38;5;66;03m# summarize the model checks\u001b[39;00m\n\u001b[32m      5\u001b[39m model_check_evaluation = protector.protect_model.model_check_evaluation(model_check_results)\n",
      "\u001b[36mFile \u001b[39m\u001b[32m~/dev/protect/protect/inference.py:504\u001b[39m, in \u001b[36mPROTECTInference.model_checks\u001b[39m\u001b[34m(self, rng_key, num_folds, do_baseline, do_postpred, verbose, inference_mcmc_kwargs, num_global_samples, baseline_mcmc_kwargs, pp_inference, postpred_mcmc_kwargs, grid_kwargs, global_samples, *args, **kwargs)\u001b[39m\n\u001b[32m    501\u001b[39m     \u001b[38;5;28;01mreturn\u001b[39;00m baseline_fn_base(rng_key, train_data, train_obs_masks)\n\u001b[32m    503\u001b[39m keys_baseline = random.split(rng_baseline, num_folds)\n\u001b[32m--> \u001b[39m\u001b[32m504\u001b[39m baseline_samples = \u001b[43mpmap\u001b[49m\u001b[43m(\u001b[49m\u001b[43mbaseline_fn\u001b[49m\u001b[43m)\u001b[49m\u001b[43m(\u001b[49m\u001b[43mkeys_baseline\u001b[49m\u001b[43m,\u001b[49m\u001b[43m \u001b[49m\u001b[43min_train_mat\u001b[49m\u001b[43m)\u001b[49m\n\u001b[32m    505\u001b[39m baseline_lls = log_likelihood(ll_model, baseline_samples, batch_ndims=\u001b[32m2\u001b[39m)\n\u001b[32m    506\u001b[39m baseline_lls_per_patient = vmap(_log_likelihood_per_patient)(baseline_lls)\n",
      "    \u001b[31m[... skipping hidden 7 frame]\u001b[39m\n",
      "\u001b[36mFile \u001b[39m\u001b[32m~/dev/protect/.venv/lib/python3.12/site-packages/jax/_src/interpreters/pxla.py:1077\u001b[39m, in \u001b[36mUnloadedPmapExecutable.from_hlo\u001b[39m\u001b[34m(***failed resolving arguments***)\u001b[39m\n\u001b[32m   1074\u001b[39m \u001b[38;5;28;01mif\u001b[39;00m shards.num_global_shards > xb.device_count(pci.backend):\n\u001b[32m   1075\u001b[39m   msg = (\u001b[33m\"\u001b[39m\u001b[33mcompiling computation that requires \u001b[39m\u001b[38;5;132;01m{}\u001b[39;00m\u001b[33m logical devices, but only \u001b[39m\u001b[38;5;132;01m{}\u001b[39;00m\u001b[33m XLA \u001b[39m\u001b[33m\"\u001b[39m\n\u001b[32m   1076\u001b[39m          \u001b[33m\"\u001b[39m\u001b[33mdevices are available (num_replicas=\u001b[39m\u001b[38;5;132;01m{}\u001b[39;00m\u001b[33m)\u001b[39m\u001b[33m\"\u001b[39m)\n\u001b[32m-> \u001b[39m\u001b[32m1077\u001b[39m   \u001b[38;5;28;01mraise\u001b[39;00m \u001b[38;5;167;01mValueError\u001b[39;00m(msg.format(shards.num_global_shards,\n\u001b[32m   1078\u001b[39m                               xb.device_count(pci.backend),\n\u001b[32m   1079\u001b[39m                               replicas.num_global_replicas))\n\u001b[32m   1080\u001b[39m \u001b[38;5;66;03m# On a single host, we simply grab the first N devices from jax.devices().\u001b[39;00m\n\u001b[32m   1081\u001b[39m \u001b[38;5;66;03m# In the single host case, we want the default device order of pmap to\u001b[39;00m\n\u001b[32m   1082\u001b[39m \u001b[38;5;66;03m# match jax.devices().\u001b[39;00m\n\u001b[32m   1083\u001b[39m \u001b[38;5;66;03m# On multiple hosts, we create a default device assignment that ensures\u001b[39;00m\n\u001b[32m   1084\u001b[39m \u001b[38;5;66;03m# each host is responsible for a contiguous set of replicas.\u001b[39;00m\n\u001b[32m   1085\u001b[39m \u001b[38;5;28;01mif\u001b[39;00m shards.num_global_shards > shards.num_local_shards:\n\u001b[32m   1086\u001b[39m   \u001b[38;5;66;03m# TODO(skye): use a locality-aware assignment that satisfies the above\u001b[39;00m\n\u001b[32m   1087\u001b[39m   \u001b[38;5;66;03m# constraint.\u001b[39;00m\n",
      "\u001b[31mValueError\u001b[39m: compiling computation that requires 8 logical devices, but only 5 XLA devices are available (num_replicas=8)"
     ]
    }
   ],
   "source": [
    "rng_key, k_modelcheck = random.split(rng_key, 2)\n",
    "# setting num_folds = 2 and num_global_samples = 10 for speed; defaults (num_folds=5, num_global_samples=1000) are better values\n",
    "model_check_results, _ = protector.model_checks(k_modelcheck, num_folds=2, num_global_samples=10)\n",
    "# summarize the model checks\n",
    "model_check_evaluation = protector.protect_model.model_check_evaluation(model_check_results)\n",
    "print(f\"all checks passed: {model_check_evaluation['all_passed']}\")\n",
    "model_check_df = model_check_evaluation_to_df(model_check_evaluation)\n",
    "model_check_df"
   ]
  },
  {
   "cell_type": "markdown",
   "id": "c84134ea",
   "metadata": {},
   "source": [
    "## Calculate marginalized hazard ratio for model\n",
    "\n",
    "The default outcome model in protect is a power generalized weibull (PGW) model.\n",
    "The treatment parameter is a hazard ratio.\n",
    "Because the hazard ratio is non-collapsible, we need to marginalize it over the population in order to compare it to a marginal hazard ratio from a (hypothetical) randomized trial.\n",
    "This needs to be done for every sample of the posterior distribution over parameters to get a distribution over the marginalized hazard ratio.\n",
    "\n",
    "For the PGW model, there is an inbuilt method to do this.\n",
    "For other non-collapsible outcome models (e.g. other non-collapsible survival models, logistic regresion, ...), you will need to run `protect.run_postpred_mcmc` with `pp_mode=\"no_txy\"` to get samples from the predictive distribution that includes the local (latent) parameter.\n",
    "From this you can simulate outcomes under hypothetical RCTs conditional on the parameter estimate, where you should simulate outcomes for two copies of the data: one with treatment set to 0 and one with treatment set to 1.\n",
    "For each sample, analyze the data as you would in a real RCT, e.g. a Cox proportional hazards model or a logistic regression model.\n",
    "This will give you a posterior distribution over the marginalized effect parameter.\n"
   ]
  },
  {
   "cell_type": "code",
   "execution_count": null,
   "id": "825eb86b",
   "metadata": {},
   "outputs": [],
   "source": [
    "rng_key, rng_marginalization = random.split(rng_key)\n",
    "marg_results = protector.get_marginalized_hazard_ratio(\n",
    "    rng_marginalization, samples\n",
    ")"
   ]
  },
  {
   "cell_type": "code",
   "execution_count": null,
   "id": "d7716377",
   "metadata": {},
   "outputs": [
    {
     "name": "stdout",
     "output_type": "stream",
     "text": [
      "max iterations needed: 3\n",
      "marginal_hr.mean()=-0.041 with std 0.091\n"
     ]
    }
   ],
   "source": [
    "marginal_hr = marg_results['params'][:,1]\n",
    "converged = marg_results['converged']\n",
    "assert (converged).all(), \"Not all samples converged\"\n",
    "print(f\"max iterations needed: {marg_results['i'].max()}\")\n",
    "print(f\"{marginal_hr.mean()=:.3f} with std {marginal_hr.std():.3f}\")\n"
   ]
  },
  {
   "cell_type": "code",
   "execution_count": null,
   "id": "b50ac2af",
   "metadata": {},
   "outputs": [
    {
     "name": "stderr",
     "output_type": "stream",
     "text": [
      "/var/folders/lz/l2_06bbx7fn4z318dtwnb3x40000gp/T/ipykernel_14855/1875183064.py:9: UserWarning: No artists with labels found to put in legend.  Note that artists whose label start with an underscore are ignored when legend() is called with no argument.\n",
      "  plt.legend()\n"
     ]
    },
    {
     "data": {
      "image/png": "[encoded data removed]",
      "text/plain": [
       "<Figure size 640x480 with 1 Axes>"
      ]
     },
     "metadata": {},
     "output_type": "display_data"
    }
   ],
   "source": [
    "# plot density of marginal_hr for those that have converged\n",
    "import seaborn as sns\n",
    "import matplotlib.pyplot as plt\n",
    "sns.kdeplot(marginal_hr)\n",
    "\n",
    "# add strip plot for non-converged values\n",
    "# non_conv_hr = marginal_hr[non_converged_iis]\n",
    "# sns.stripplot(x=non_conv_hr, color='red', label='non-converged', alpha=0.5)\n",
    "plt.legend()\n",
    "plt.title('Marginalized Hazard Ratio Density')\n",
    "plt.xlabel('Hazard Ratio')\n",
    "plt.ylabel('Density')\n",
    "plt.show()\n"
   ]
  },
  {
   "cell_type": "markdown",
   "id": "4560cac8",
   "metadata": {},
   "source": [
    "## Plot survival curves for average outcomes\n",
    "\n",
    "The better way to approach this is to estimate survival curves for every posterior sample, and then average the curves.\n",
    "The current approach averages survival times per patient and then plots the survival curve for the expected survival time per patient.\n",
    "\n",
    "\n"
   ]
  },
  {
   "cell_type": "code",
   "execution_count": null,
   "id": "e23a8bfc",
   "metadata": {},
   "outputs": [],
   "source": [
    "et0 = marg_results['time0'].mean(axis=0)\n",
    "et1 = marg_results['time1'].mean(axis=0)\n",
    "\n",
    "e0 = et0 > 0\n",
    "t0 = jnp.abs(et0)\n",
    "e1 = et1 > 0\n",
    "t1 = jnp.abs(et1)\n"
   ]
  },
  {
   "cell_type": "code",
   "execution_count": null,
   "id": "e63b2e84",
   "metadata": {},
   "outputs": [
    {
     "data": {
      "text/plain": [
       "<matplotlib.legend.Legend at 0x37f9cb990>"
      ]
     },
     "execution_count": 13,
     "metadata": {},
     "output_type": "execute_result"
    },
    {
     "data": {
      "image/png": "[encoded data removed]",
      "text/plain": [
       "<Figure size 640x480 with 1 Axes>"
      ]
     },
     "metadata": {},
     "output_type": "display_data"
    }
   ],
   "source": [
    "from sksurv.nonparametric import kaplan_meier_estimator\n",
    "from matplotlib import pyplot as plt\n",
    "\n",
    "tt0, s0, ci0 = kaplan_meier_estimator(e0, t0, conf_type=\"log-log\")\n",
    "tt1, s1, ci1 = kaplan_meier_estimator(e1, t1, conf_type=\"log-log\")\n",
    "\n",
    "plt.step(tt0, s0, where=\"post\", label=\"treatment 0\")\n",
    "plt.fill_between(tt0, ci0[0], ci0[1], alpha=0.25, step=\"post\")\n",
    "plt.step(tt1, s1, where=\"post\", label=\"treatment 1\")\n",
    "plt.fill_between(tt1, ci1[0], ci1[1], alpha=0.25, step=\"post\")\n",
    "\n",
    "plt.ylim(0, 1)\n",
    "plt.ylabel(r\"est. probability of survival $\\hat{S}(t)$\")\n",
    "plt.xlabel(\"time $t$\")\n",
    "plt.legend(loc=\"best\")"
   ]
  },
  {
   "cell_type": "markdown",
   "id": "c4f18d2a",
   "metadata": {},
   "source": [
    "## Evaluate predictive performance\n",
    "\n",
    "We evaluate Harrell's c-index to assess discrimatory performance of the model.\n",
    "For this, we need to get posterior predictive samples.\n",
    "These can either condition on all variables except survival (`pp_mode='no_y'`),\n",
    "or on all variables except survival **and** treatment, which would mimic predicting survival under hypothetical treatment or no treatment (like in an RCT) (`pp_mode='no_txy'`).\n"
   ]
  },
  {
   "cell_type": "code",
   "execution_count": null,
   "id": "c0035a9d",
   "metadata": {},
   "outputs": [],
   "source": [
    "smps_no_y = protector.run_postpred_mcmc(random.PRNGKey(7), samples, pp_mode=\"no_y\", num_local_draws=100)\n",
    "smps_no_txy = protector.run_postpred_mcmc(random.PRNGKey(7), samples, pp_mode=\"no_txy\", num_local_draws=100)"
   ]
  },
  {
   "cell_type": "code",
   "execution_count": null,
   "id": "aa997110",
   "metadata": {},
   "outputs": [
    {
     "name": "stdout",
     "output_type": "stream",
     "text": [
      "c index (95% CI) for no_y: 0.550, ([0.5346854  0.55810225])\n",
      "c index (95% CI) for no_txy: 0.548, ([0.53445554 0.55731446])\n"
     ]
    }
   ],
   "source": [
    "c_index_no_y = protector.get_c_index(pp_mode=\"no_y\", posterior_samples=smps_no_y)\n",
    "c_index_no_txy = protector.get_c_index(pp_mode=\"no_txy\", posterior_samples=smps_no_txy)\n",
    "\n",
    "print(f\"c index (95% CI) for no_y: {c_index_no_y.mean():.3f}, ({az.hdi(np.array(c_index_no_y))})\")\n",
    "print(f\"c index (95% CI) for no_txy: {c_index_no_txy.mean():.3f}, ({az.hdi(np.array(c_index_no_txy))})\")"
   ]
  },
  {
   "cell_type": "markdown",
   "id": "ba31a1bd",
   "metadata": {},
   "source": [
    "We can also evaluate how good the model is in predicting treatment (with or without conditioning on survival). For this we calculate the AUC."
   ]
  },
  {
   "cell_type": "code",
   "execution_count": null,
   "id": "3f088263",
   "metadata": {},
   "outputs": [],
   "source": [
    "smps_no_tx = protector.run_postpred_mcmc(rng_key, pp_mode=\"no_tx\", posterior_samples=samples)"
   ]
  },
  {
   "cell_type": "code",
   "execution_count": null,
   "id": "e74b0143",
   "metadata": {},
   "outputs": [
    {
     "name": "stdout",
     "output_type": "stream",
     "text": [
      "auc for predicting treatment (95% CI) for no_tx: 0.538, ([0.5149845  0.55853134])\n",
      "auc for predicting treatment (95% CI) for no_txy: 0.532, ([0.5082717  0.55700195])\n"
     ]
    }
   ],
   "source": [
    "auc_no_tx = protector.get_treatment_auc(pp_mode=\"no_tx\", posterior_samples=smps_no_tx)\n",
    "auc_no_txy = protector.get_treatment_auc(pp_mode=\"no_txy\", posterior_samples=smps_no_txy)\n",
    "print(f\"auc for predicting treatment (95% CI) for no_tx: {auc_no_tx.mean():.3f}, ({az.hdi(np.array(auc_no_tx))})\")\n",
    "print(f\"auc for predicting treatment (95% CI) for no_txy: {auc_no_txy.mean():.3f}, ({az.hdi(np.array(auc_no_txy))})\")"
   ]
  }
 ],
 "metadata": {
  "kernelspec": {
   "display_name": "protectcode (3.12.9)",
   "language": "python",
   "name": "python3"
  },
  "language_info": {
   "codemirror_mode": {
    "name": "ipython",
    "version": 3
   },
   "file_extension": ".py",
   "mimetype": "text/x-python",
   "name": "python",
   "nbconvert_exporter": "python",
   "pygments_lexer": "ipython3",
   "version": "3.12.9"
  }
 },
 "nbformat": 4,
 "nbformat_minor": 5
}
